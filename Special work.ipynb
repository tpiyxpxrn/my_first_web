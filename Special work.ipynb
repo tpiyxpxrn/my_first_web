{
 "cells": [
  {
   "cell_type": "code",
   "execution_count": 9,
   "id": "f5a88d75-04b7-4f67-90cb-c69566f3def2",
   "metadata": {},
   "outputs": [
    {
     "name": "stdin",
     "output_type": "stream",
     "text": [
      "Enter X and Y:  5 5\n"
     ]
    },
    {
     "name": "stdout",
     "output_type": "stream",
     "text": [
      "1\n"
     ]
    }
   ],
   "source": [
    "import math\n",
    "\n",
    "try:\n",
    "    X, Y = map(int, input(\"Enter X and Y: \").split())\n",
    "    jumps = math.ceil(Y / X)\n",
    "    print(jumps)\n",
    "except ValueError:\n",
    "    print(\"Invalid input! Please enter two integers separated by a space.\")\n"
   ]
  },
  {
   "cell_type": "code",
   "execution_count": null,
   "id": "8ddb97b9-335d-4ba6-a202-c097fe920220",
   "metadata": {},
   "outputs": [],
   "source": [
    "\"\"\"\n",
    "ชื่อ ปิยะพร  สกุล พงษ์วัน รหัส 6712732123\n",
    "\n",
    "\n",
    "\"\"\""
   ]
  }
 ],
 "metadata": {
  "kernelspec": {
   "display_name": "Python 3 (ipykernel)",
   "language": "python",
   "name": "python3"
  },
  "language_info": {
   "codemirror_mode": {
    "name": "ipython",
    "version": 3
   },
   "file_extension": ".py",
   "mimetype": "text/x-python",
   "name": "python",
   "nbconvert_exporter": "python",
   "pygments_lexer": "ipython3",
   "version": "3.12.4"
  }
 },
 "nbformat": 4,
 "nbformat_minor": 5
}
