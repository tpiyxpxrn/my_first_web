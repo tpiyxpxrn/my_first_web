{
 "cells": [
  {
   "cell_type": "markdown",
   "metadata": {},
   "source": [
    "# แบบฝึกหัด บทที่ 8 ฟังก์ชัน"
   ]
  },
  {
   "cell_type": "code",
   "execution_count": null,
   "metadata": {},
   "outputs": [],
   "source": [
    "\"\"\"\n",
    "ชื่อ ปิยะพร สกุล พงษ์วัน รหัส 6712732123\n",
    "\n",
    "\n",
    "\"\"\""
   ]
  },
  {
   "cell_type": "markdown",
   "metadata": {},
   "source": [
    "## 1.จงเขียนฟังก์ชันเพื่อหาผลรวมของข้อมูลสมาชิกภายในลิสต์ เช่น"
   ]
  },
  {
   "cell_type": "code",
   "execution_count": null,
   "metadata": {},
   "outputs": [],
   "source": [
    "\"\"\"\n",
    "Sample List: (8, 2, 3, 0, 7)\n",
    "Expected Output: 20\n",
    "\"\"\"\n",
    "\n",
    "\"\"\"\n",
    "คำตอบ \n",
    "\n",
    "\n"
   ]
  },
  {
   "cell_type": "code",
   "execution_count": 4,
   "metadata": {},
   "outputs": [
    {
     "name": "stdout",
     "output_type": "stream",
     "text": [
      "ผลรวมของลิสต์: 20\n"
     ]
    }
   ],
   "source": [
    "def sum_list(lst):\n",
    "    return sum(lst)\n",
    "\n",
    "sample_list = [8, 2, 3, 0, 7]\n",
    "result = sum_list(sample_list)\n",
    "print(\"ผลรวมของลิสต์:\", result)\n"
   ]
  },
  {
   "cell_type": "markdown",
   "metadata": {},
   "source": [
    "## 2.จงเขียนโปรแกรมเพื่อให้ได้ผลลัพธ์ดังต่อไปนี้\n",
    "\n",
    "จงเขียนฟังก์ชันที่ทำหน้าที่กลับสตริงจากหน้าเป็นหลัง \n",
    "\n",
    "โดยมีการส่งอาร์กิวเมนต์ที่เป็นสติงไปให้ฟังก์ชันทำงาน เช่น"
   ]
  },
  {
   "cell_type": "code",
   "execution_count": 2,
   "metadata": {},
   "outputs": [
    {
     "name": "stdout",
     "output_type": "stream",
     "text": [
      "dcba4321\n"
     ]
    }
   ],
   "source": [
    "\"\"\"\n",
    "Argument String: \"1234abcd\"\n",
    "Expected Output: \"dcba4321\"\n",
    "\"\"\"\n",
    "\n",
    "\"\"\"\n",
    "คำตอบ\n",
    "\"\"\"\n",
    "\n",
    "def reverseStr(instr):\n",
    "    print(\"{}\".format(instr[::-1]))\n",
    "\n",
    "a = \"1234abcd\"\n",
    "reverseStr(a)"
   ]
  },
  {
   "cell_type": "code",
   "execution_count": 6,
   "metadata": {},
   "outputs": [
    {
     "name": "stdout",
     "output_type": "stream",
     "text": [
      "ผลรวมของลิสต์: 20\n",
      "ผลลัพธ์กลับลำดับ: dcba4321\n"
     ]
    }
   ],
   "source": [
    "\n",
    "def sum_list(lst):\n",
    "    return sum(lst)\n",
    "sample_list = [8, 2, 3, 0, 7]\n",
    "result = sum_list(sample_list)\n",
    "print(\"ผลรวมของลิสต์:\", result)\n",
    "\n",
    "def reverseStr(instr):\n",
    "    print(\"ผลลัพธ์กลับลำดับ: {}\".format(instr[::-1]))\n",
    "\n",
    "a = \"1234abcd\"\n",
    "reverseStr(a)\n"
   ]
  },
  {
   "cell_type": "markdown",
   "metadata": {},
   "source": [
    "## 3.จงเขียนโปรแกรมเพื่อให้ได้ผลลัพธ์ดังต่อไปนี้\n",
    "\n",
    "จงเขียนฟังก์ชันที่ทำหน้าที่สำหรับการตรวจสอบค่าซ้ำของข้อมูลสมาชิกภายในลิสต์ \n",
    "\n",
    "โดยการส่งอาร์กิวเมนต์ที่เป็นลิสต์ไปให้ฟังก์ชันทำงาน และฟังก์ชันจะทำการส่งผลลัพธ์ได้จากการดำเนินการออกมา เช่น\n",
    "\n",
    "Argument List: [1,2,3,3,3,3,4,5]\n",
    "\n",
    "Output List: [1, 2, 3, 4, 5]\n",
    "\n",
    "หรือ \n",
    "\n",
    "Argument List: [‘a’, ‘b’, ‘c’, ‘c’, ‘c’, ‘a’, ‘d’, ‘e’, ‘e’]\n",
    "\n",
    "Output List: [‘a’, ‘b’, ‘c’, ‘d’, ‘e’]\n"
   ]
  },
  {
   "cell_type": "code",
   "execution_count": 8,
   "metadata": {},
   "outputs": [
    {
     "name": "stdout",
     "output_type": "stream",
     "text": [
      "Argument List: [1, 2, 3, 3, 3, 3, 4, 5]\n",
      "Output List: [1, 2, 3, 4, 5]\n",
      "\n",
      "Argument List: ['a', 'b', 'c', 'c', 'c', 'a', 'd', 'e', 'e']\n",
      "Output List: ['a', 'b', 'c', 'd', 'e']\n"
     ]
    }
   ],
   "source": [
    "def remove_duplicates(lst):\n",
    "    unique_list = []\n",
    "    for item in lst:\n",
    "        if item not in unique_list:\n",
    "            unique_list.append(item)\n",
    "    return unique_list\n",
    "\n",
    "argument_list1 = [1, 2, 3, 3, 3, 3, 4, 5]\n",
    "output_list1 = remove_duplicates(argument_list1)\n",
    "print(\"Argument List:\", argument_list1)\n",
    "print(\"Output List:\", output_list1)\n",
    "\n",
    "argument_list2 = ['a', 'b', 'c', 'c', 'c', 'a', 'd', 'e', 'e']\n",
    "output_list2 = remove_duplicates(argument_list2)\n",
    "print(\"\\nArgument List:\", argument_list2)\n",
    "print(\"Output List:\", output_list2)\n",
    "\n",
    "\n"
   ]
  },
  {
   "cell_type": "markdown",
   "metadata": {},
   "source": [
    "## 4.\tจงเขียนโปรแกรมเพื่อให้ได้ผลลัพธ์ดังต่อไปนี้ \n",
    "\n",
    "จงเขียนฟังก์ชันซึ่งรับค่าอาร์กิวเมนต์ที่เป็นจำนวนเต็ม และทำการเช็คว่าค่าที่รับมา   \n",
    "\n",
    "เป็นจำนวนเฉพาะหรือไม่ ถ้าใช่จำนวนเฉพาะให้ส่งคืนค่า True ออกมาและถ้าไม่ให้คืนค่า False"
   ]
  },
  {
   "cell_type": "code",
   "execution_count": 10,
   "metadata": {},
   "outputs": [
    {
     "name": "stdout",
     "output_type": "stream",
     "text": [
      "2: เป็นจำนวนเฉพาะ\n",
      "3: เป็นจำนวนเฉพาะ\n",
      "4: ไม่เป็นจำนวนเฉพาะ\n",
      "5: เป็นจำนวนเฉพาะ\n",
      "10: ไม่เป็นจำนวนเฉพาะ\n",
      "11: เป็นจำนวนเฉพาะ\n",
      "13: เป็นจำนวนเฉพาะ\n",
      "15: ไม่เป็นจำนวนเฉพาะ\n",
      "17: เป็นจำนวนเฉพาะ\n",
      "19: เป็นจำนวนเฉพาะ\n",
      "20: ไม่เป็นจำนวนเฉพาะ\n"
     ]
    }
   ],
   "source": [
    "def is_prime(num):\n",
    "  \n",
    "    if num <= 1:\n",
    "        return False\n",
    "    for i in range(2, int(num**0.5) + 1):  \n",
    "        if num % i == 0:  \n",
    "            return False\n",
    "    return True  \n",
    "\n",
    "\n",
    "test_numbers = [2, 3, 4, 5, 10, 11, 13, 15, 17, 19, 20]\n",
    "for number in test_numbers:\n",
    "    print(f\"{number}: {'เป็นจำนวนเฉพาะ' if is_prime(number) else 'ไม่เป็นจำนวนเฉพาะ'}\")\n",
    "\n",
    "\n"
   ]
  },
  {
   "cell_type": "markdown",
   "metadata": {},
   "source": [
    "## 5. จงเขียนโปรแกรมเพื่อให้ได้ผลลัพธ์ดังต่อไปนี้ \n",
    "\n",
    "จงเขียนฟังก์ชันที่รับอาร์กิวเมนต์ที่เป็นสตริง ที่มีลักษณะเป็นคำผสมซึ่งเชื่อมด้วยเครื่องหมายยัติภังค์ ( - ) เมื่อฟังก์ชันรับค่าอาร์กิวเมนต์มาแล้วจะทำการสลับลำดับของคำใหม่      \n",
    "โดยเรียงลำดับตามตัวอักษร และส่งคืนค่าผลลัพธ์กลับคืนมาดังตัวอย่าง\n",
    "\n",
    "Argument : green-red-yellow-black-white\n",
    "\n",
    "Result : black-green-red-white-yellow\n"
   ]
  },
  {
   "cell_type": "code",
   "execution_count": 12,
   "metadata": {},
   "outputs": [
    {
     "name": "stdout",
     "output_type": "stream",
     "text": [
      "Argument: green-red-yellow-black-white\n",
      "Result: black-green-red-white-yellow\n"
     ]
    }
   ],
   "source": [
    "def sort_hyphenated_string(s):\n",
    "    words = s.split(\"-\")  \n",
    "    sorted_words = sorted(words)  \n",
    "    return \"-\".join(sorted_words)  \n",
    "\n",
    "argument = \"green-red-yellow-black-white\"\n",
    "result = sort_hyphenated_string(argument)\n",
    "print(\"Argument:\", argument)\n",
    "print(\"Result:\", result)\n",
    "\n"
   ]
  },
  {
   "cell_type": "markdown",
   "metadata": {},
   "source": [
    "## 6.จงเขียนโปรแกรมเพื่อให้ได้ผลลัพธ์ดังต่อไปนี้\n",
    "\n",
    "จงเขียนฟังก์ชันที่ทำการรับสตริงภาษาอังกฤษทางอาร์กิวเมนต์ และทำการนับจำนวนตัวอักษรที่เป็นตัวใหญ่ และตัวเล็ก และทำการแสดงจำนวนออกมา เช่น\n",
    "\n",
    "Input String: 'The quick Brow Fox'\n",
    "\n",
    "Expected Output: \n",
    "\n",
    "No. of Upper case characters: 3\n",
    "\n",
    "No. of Lower case Characters: 12"
   ]
  },
  {
   "cell_type": "code",
   "execution_count": 14,
   "metadata": {},
   "outputs": [
    {
     "name": "stdout",
     "output_type": "stream",
     "text": [
      "No. of Upper case characters: 3\n",
      "No. of Lower case Characters: 12\n"
     ]
    }
   ],
   "source": [
    "def count_case(s):\n",
    "  \n",
    "    upper_count = 0\n",
    "    lower_count = 0\n",
    "    \n",
    "    for char in s:\n",
    "        if char.isupper():\n",
    "            upper_count += 1\n",
    "        elif char.islower():\n",
    "            lower_count += 1\n",
    "    \n",
    "    print(f\"No. of Upper case characters: {upper_count}\")\n",
    "    print(f\"No. of Lower case Characters: {lower_count}\")\n",
    "\n",
    "\n",
    "input_string = \"The quick Brow Fox\"\n",
    "count_case(input_string)\n",
    "\n",
    "\n"
   ]
  },
  {
   "cell_type": "markdown",
   "metadata": {},
   "source": [
    "## 7.จงเขียนโปรแกรมเพื่อให้ได้ผลลัพธ์ดังต่อไปนี้\n",
    "\n",
    "จงเขียนฟังก์ชันที่รับตัวเลขซึ่งเป็นจำนวนนาที \n",
    "\n",
    "และทำการคำนวณเพื่อแสดงผลในรูปแบบ ชั่วโมง : นาที"
   ]
  },
  {
   "cell_type": "code",
   "execution_count": 16,
   "metadata": {},
   "outputs": [
    {
     "name": "stdout",
     "output_type": "stream",
     "text": [
      "Result: 2:5\n"
     ]
    }
   ],
   "source": [
    "def minutes_to_hours_and_minutes(total_minutes):\n",
    "\n",
    "    hours = total_minutes // 60  \n",
    "    minutes = total_minutes % 60  \n",
    "    \n",
    "    return f\"{hours}:{minutes}\"\n",
    "\n",
    "\n",
    "total_minutes = 125\n",
    "result = minutes_to_hours_and_minutes(total_minutes)\n",
    "print(\"Result:\", result)\n",
    "\n"
   ]
  },
  {
   "cell_type": "code",
   "execution_count": null,
   "metadata": {},
   "outputs": [],
   "source": []
  }
 ],
 "metadata": {
  "interpreter": {
   "hash": "40d3a090f54c6569ab1632332b64b2c03c39dcf918b08424e98f38b5ae0af88f"
  },
  "kernelspec": {
   "display_name": "Python 3 (ipykernel)",
   "language": "python",
   "name": "python3"
  },
  "language_info": {
   "codemirror_mode": {
    "name": "ipython",
    "version": 3
   },
   "file_extension": ".py",
   "mimetype": "text/x-python",
   "name": "python",
   "nbconvert_exporter": "python",
   "pygments_lexer": "ipython3",
   "version": "3.12.4"
  }
 },
 "nbformat": 4,
 "nbformat_minor": 4
}
